{
 "cells": [
  {
   "cell_type": "markdown",
   "metadata": {},
   "source": [
    "### 외부 API를 활용한 데이터 수집 및 가공 평가"
   ]
  },
  {
   "cell_type": "markdown",
   "metadata": {},
   "source": [
    "##### 1. 키보드로 두 수를 입력받아 큰 수부터 출력하는 프로그램을 작성하시요. 단, 입력받는 두 수는 중복이 없다고 가정한다."
   ]
  },
  {
   "cell_type": "code",
   "execution_count": 4,
   "metadata": {},
   "outputs": [
    {
     "name": "stdout",
     "output_type": "stream",
     "text": [
      "큰수 : 6\n",
      "작은수 : 5\n"
     ]
    }
   ],
   "source": [
    "# 1번 문제 답안 작성\n",
    "num1 = int(input('첫번째 숫자를 입력해주세요'))\n",
    "num2 = int(input(\"두번째 숫자를 입력해주세요\"))\n",
    "\n",
    "if num1 < num2 :\n",
    "    print(f'큰수 : {num2}')\n",
    "    print(f'작은수 : {num1}')\n",
    "else:\n",
    "    print(f'큰수 : {num1}')\n",
    "    print(f'작은수 : {num2}')\n"
   ]
  },
  {
   "cell_type": "markdown",
   "metadata": {},
   "source": [
    "##### 2. 키보드로 세 수를 입력받고,입력받은 세 수를 리스트에 저장하시오.<br> 그 후 리스트에 저장된 수 중 가장 큰 수와 가장 작은 수의 차를 출력하시오. (10점)"
   ]
  },
  {
   "cell_type": "code",
   "execution_count": 5,
   "metadata": {},
   "outputs": [
    {
     "name": "stdout",
     "output_type": "stream",
     "text": [
      "가장 큰 수와 작은수의 차 = 20\n"
     ]
    }
   ],
   "source": [
    "# 2번 문제 답안 작성\n",
    "numList = []\n",
    "for i in range(3):\n",
    "    num = int(input(f'{i+1}번째 숫자를 입력해주세요'))\n",
    "    numList.append(num)\n",
    "print(f'가장 큰 수와 작은수의 차 = {max(numList) - min(numList)}')"
   ]
  },
  {
   "cell_type": "markdown",
   "metadata": {},
   "source": [
    "##### 3. 매개변수로 두 정수를 받아, 두 정수 사이의(두 정수 포함) 모든 정수를 갖는 리스트를 리턴하는 함수를 구현하시오."
   ]
  },
  {
   "cell_type": "code",
   "execution_count": 129,
   "metadata": {},
   "outputs": [
    {
     "data": {
      "text/plain": [
       "[20,\n",
       " 21,\n",
       " 22,\n",
       " 23,\n",
       " 24,\n",
       " 25,\n",
       " 26,\n",
       " 27,\n",
       " 28,\n",
       " 29,\n",
       " 30,\n",
       " 31,\n",
       " 32,\n",
       " 33,\n",
       " 34,\n",
       " 35,\n",
       " 36,\n",
       " 37,\n",
       " 38,\n",
       " 39,\n",
       " 40,\n",
       " 41,\n",
       " 42,\n",
       " 43,\n",
       " 44,\n",
       " 45,\n",
       " 46,\n",
       " 47,\n",
       " 48,\n",
       " 49,\n",
       " 50]"
      ]
     },
     "execution_count": 129,
     "metadata": {},
     "output_type": "execute_result"
    }
   ],
   "source": [
    "# 3번 문제 답안 작성\n",
    "num1 = int(input('첫번째 수를 입력해주세요'))\n",
    "num2 = int(input('두번째 수를 입력해주세요'))\n",
    "def listReturn(num1 , num2):\n",
    "    \n",
    "    listlist = []\n",
    "    max, min = 0,0\n",
    "    if num1 < num2 :\n",
    "        max, min = num2 , num1\n",
    "    else :\n",
    "        max, min = num1 , num2\n",
    "    \n",
    "    for i in range(min, max+1):\n",
    "        listlist.append(i)\n",
    "    return listlist\n",
    "\n",
    "listReturn(num1, num2)"
   ]
  },
  {
   "cell_type": "markdown",
   "metadata": {},
   "source": [
    "##### 다음 딕셔너리 데이터를 참고하여 아래 문제들을 해결하시오."
   ]
  },
  {
   "cell_type": "code",
   "execution_count": 154,
   "metadata": {},
   "outputs": [],
   "source": [
    "# 2012년 광역시별 25세 미만 연령별 인구 데이터\n",
    "population = {\n",
    "    '행정기관' : ['서울특별시', '부산광역시', '대구광역시', '인천광역시', '울산광역시'],\n",
    "    '0~4세' : [214651, 68006, 53515, 69453, 29835],\n",
    "    '5~9세' : [210833, 68704, 58332, 68555, 29331],\n",
    "    '10~14세' : [269171, 94802, 91268, 86574, 29035],\n",
    "    '15~19세' : [335828, 124564, 101110, 106435, 49119],\n",
    "    '20~24세' : [343797, 125907, 96078, 102297, 43937]\n",
    "}"
   ]
  },
  {
   "cell_type": "markdown",
   "metadata": {},
   "source": [
    "##### 4. 2012년 기준 대한민국에서 25세 미만의 인구수 중 인구가 가장 많은 연령대를 출력하시오."
   ]
  },
  {
   "cell_type": "code",
   "execution_count": 156,
   "metadata": {},
   "outputs": [
    {
     "name": "stdout",
     "output_type": "stream",
     "text": [
      "가장 많은 연령대 15~19세 : 717056\n"
     ]
    }
   ],
   "source": [
    "# 4번 문제 답안 작성\n",
    "\n",
    "max1 = 0\n",
    "max2 = ''\n",
    "for index,i in enumerate(population):\n",
    "    if index == 0:\n",
    "        continue\n",
    "    if max1 < sum(population[i]) :\n",
    "        max1 = sum(population[i])\n",
    "        max2 = i\n",
    "\n",
    "print(f'가장 많은 연령대 {max2} : {max1}')\n",
    "\n"
   ]
  },
  {
   "cell_type": "markdown",
   "metadata": {},
   "source": [
    "##### 5. '총 인구수' 라는 키를 추가하고, 해당 키에 1세부터 24세까지의 인구 합을 데이터로 하여 population 데이터에 추가하시오."
   ]
  },
  {
   "cell_type": "code",
   "execution_count": 169,
   "metadata": {},
   "outputs": [
    {
     "name": "stdout",
     "output_type": "stream",
     "text": [
      "행정기관\n",
      "5\n"
     ]
    },
    {
     "data": {
      "text/plain": [
       "{'행정기관': ['서울특별시', '부산광역시', '대구광역시', '인천광역시', '울산광역시'],\n",
       " '0~4세': [214651, 68006, 53515, 69453, 29835],\n",
       " '5~9세': [210833, 68704, 58332, 68555, 29331],\n",
       " '10~14세': [269171, 94802, 91268, 86574, 29035],\n",
       " '15~19세': [335828, 124564, 101110, 106435, 49119],\n",
       " '20~24세': [343797, 125907, 96078, 102297, 43937],\n",
       " '총 인구수': [1374280, 481983, 400303, 433314, 181257]}"
      ]
     },
     "execution_count": 169,
     "metadata": {},
     "output_type": "execute_result"
    }
   ],
   "source": [
    "# 5번 문제 답안 작성\n",
    "\n",
    "# 초기화\n",
    "population['총 인구수'] = []\n",
    "del population['총 인구수']\n",
    "\n",
    "sumList = []\n",
    "sumNum = 0\n",
    "listNum = 0\n",
    "print((list(population.keys())[0]))\n",
    "listNum = len(population[(list(population.keys())[0])])\n",
    "print(listNum)\n",
    "\n",
    "\n",
    "for index2 in range(listNum):\n",
    "    sumNum = 0\n",
    "    for index, i in enumerate(population):\n",
    "        if(index == 0):\n",
    "            continue\n",
    "        # print(f'{i} {population[i]}')\n",
    "        sumNum = sumNum + population[i][index2]\n",
    "        # print(sumNum)\n",
    "    sumList.append(sumNum)\n",
    "    # print(sumList)\n",
    "\n",
    "population['총 인구수'] = sumList\n",
    "population\n"
   ]
  },
  {
   "cell_type": "code",
   "execution_count": null,
   "metadata": {},
   "outputs": [],
   "source": []
  },
  {
   "cell_type": "code",
   "execution_count": null,
   "metadata": {},
   "outputs": [],
   "source": []
  },
  {
   "cell_type": "code",
   "execution_count": null,
   "metadata": {},
   "outputs": [],
   "source": []
  }
 ],
 "metadata": {
  "kernelspec": {
   "display_name": "Python 3",
   "language": "python",
   "name": "python3"
  },
  "language_info": {
   "codemirror_mode": {
    "name": "ipython",
    "version": 3
   },
   "file_extension": ".py",
   "mimetype": "text/x-python",
   "name": "python",
   "nbconvert_exporter": "python",
   "pygments_lexer": "ipython3",
   "version": "3.12.2"
  }
 },
 "nbformat": 4,
 "nbformat_minor": 2
}
