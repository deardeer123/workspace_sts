{
 "cells": [
  {
   "cell_type": "markdown",
   "metadata": {},
   "source": [
    "### 조건문 \n"
   ]
  },
  {
   "cell_type": "code",
   "execution_count": 4,
   "metadata": {},
   "outputs": [
    {
     "name": "stdout",
     "output_type": "stream",
     "text": [
      "5\n",
      "10\n",
      "15\n"
     ]
    }
   ],
   "source": [
    "#if문 기본\n",
    "#들여쓰기를 기준으로 조건문의 영역을 표현\n",
    "if (10 > 5) :\n",
    "    print('5')\n",
    "    print(10)\n",
    "print(15)\n",
    "\n"
   ]
  },
  {
   "cell_type": "code",
   "execution_count": 5,
   "metadata": {},
   "outputs": [
    {
     "name": "stdout",
     "output_type": "stream",
     "text": [
      "1\n"
     ]
    }
   ],
   "source": [
    "num1 = 10\n",
    "if (num1 > 5):\n",
    "    print(1)\n",
    "else:\n",
    "    print(2)"
   ]
  },
  {
   "cell_type": "code",
   "execution_count": 7,
   "metadata": {},
   "outputs": [
    {
     "name": "stdout",
     "output_type": "stream",
     "text": [
      "0\n"
     ]
    }
   ],
   "source": [
    "num2 = 0\n",
    "if(num2>0):\n",
    "    print(\"양수\")\n",
    "elif(num2<0):\n",
    "    print(\"음수\")\n",
    "else:\n",
    "    print(\"0입니다.\")"
   ]
  },
  {
   "cell_type": "code",
   "execution_count": 9,
   "metadata": {},
   "outputs": [
    {
     "name": "stdout",
     "output_type": "stream",
     "text": [
      "3\n"
     ]
    }
   ],
   "source": [
    "#그리고 and , 이거나 or\n",
    "num3 = 3\n",
    "\n",
    "if(num3 % 2 == 0 and num3 > 5):\n",
    "    print(\"안될거 같은데\")\n",
    "else :\n",
    "    print(num3)"
   ]
  },
  {
   "cell_type": "code",
   "execution_count": 13,
   "metadata": {},
   "outputs": [
    {
     "name": "stdout",
     "output_type": "stream",
     "text": [
      "자바\n",
      "<class 'str'>\n"
     ]
    }
   ],
   "source": [
    "# 키보드로 값 입력받기\n",
    "name = str(input(\"이름을 입력하세요 :\"))\n",
    "print(name)\n",
    "print(type(name))\n",
    "# 문자로 인식함\n"
   ]
  },
  {
   "cell_type": "code",
   "execution_count": 21,
   "metadata": {},
   "outputs": [
    {
     "name": "stdout",
     "output_type": "stream",
     "text": [
      "0 0\n",
      "거짓\n",
      "1\n"
     ]
    }
   ],
   "source": [
    "# 키보드로 두 수를 입력 받아 두 수의 합이 5의 배수라면 참\n",
    "num1 = int(input(\"첫번쨰 숫자를 입력해주세요 : \"))\n",
    "num2 = int(input(\"두번쨰 수를 입력해주세요 : \"))\n",
    "\n",
    "print(num1 , num2)\n",
    "if(num1+num2)%5==0 and (num1+num2)!=0:\n",
    "    print(\"참\")\n",
    "else:\n",
    "    print(\"거짓\")"
   ]
  },
  {
   "cell_type": "code",
   "execution_count": 24,
   "metadata": {},
   "outputs": [
    {
     "name": "stdout",
     "output_type": "stream",
     "text": [
      "1\n"
     ]
    }
   ],
   "source": [
    "\n",
    "#파이썬에만 존재하는 특별한 기능\n",
    "# 5가 있는지 확인\n",
    "list_1 = [1, 2, 3, 4, 5, 6, 7, 8, 9, 10] \n",
    "if 5 in list_1 :\n",
    "    print(1)"
   ]
  },
  {
   "cell_type": "code",
   "execution_count": 23,
   "metadata": {},
   "outputs": [
    {
     "name": "stdout",
     "output_type": "stream",
     "text": [
      "1\n"
     ]
    }
   ],
   "source": [
    "#5가 없는지도 판단가능\n",
    "\n",
    "if 5 not in list_1:\n",
    "    print(2)\n",
    "else:\n",
    "    print(1)"
   ]
  },
  {
   "cell_type": "markdown",
   "metadata": {},
   "source": [
    "### 반복문\n"
   ]
  },
  {
   "cell_type": "code",
   "execution_count": 58,
   "metadata": {},
   "outputs": [
    {
     "name": "stdout",
     "output_type": "stream",
     "text": [
      "1번\\\n",
      "2번\\\n",
      "3번\\\n",
      "4번\\\n",
      "hello World! 1\n",
      "0\n",
      "3\n",
      "6\n",
      "9\n",
      "12\n",
      "15\n",
      "i = 0\te = 1\t5\n",
      "i = 1\te = 3\t5\n",
      "i = 2\te = java\t5\n",
      "i = 3\te = 홍\t5\n",
      "i = 4\te = 10.5\t5\n"
     ]
    }
   ],
   "source": [
    "for i in range(1, 5):\n",
    "    print(i ,end=\"번\\\\\\n\")\n",
    "\n",
    "def helloWorld(a):\n",
    "    if(type(a) != str):\n",
    "\n",
    "        a = str(a)\n",
    "    \n",
    "    print(\"hello World! \" + a)\n",
    "\n",
    "helloWorld('1')\n",
    "\n",
    "for i in range(0,16,3):\n",
    "    print(i)\n",
    "\n",
    "list_2 = [1,3,'java','홍', 10.5]\n",
    "\n",
    "# i는 반복 횟수 e : 하나씩 뺀 데이터\n",
    "for i, e in enumerate(list_2):\n",
    "    print(f'i = {i}\\te = {e}\\t{len(list_2)}')\n"
   ]
  },
  {
   "cell_type": "code",
   "execution_count": 68,
   "metadata": {},
   "outputs": [
    {
     "name": "stdout",
     "output_type": "stream",
     "text": [
      "55\n",
      "------------------------\n",
      "3 6 9 12 15 18 21 24 27 30 33 36 39 42 45 48 51 54 57 60 63 66 69 72 75 78 81 84 87 90 93 96 99 \n",
      "1683\n",
      "------------------------\n",
      "55\n"
     ]
    }
   ],
   "source": [
    "# 1 ~ 10 까지의 합\n",
    "sum = 0\n",
    "for i in range(1,11):\n",
    "    sum += i\n",
    "\n",
    "print(sum)\n",
    "print('------------------------')\n",
    "# 1 ~ 100 사이중 3의 배수, 3의 배수의 합 \n",
    "sum = 0\n",
    "for i in range(1,101):\n",
    "    if(i%3==0):\n",
    "        sum +=i\n",
    "        print(i , end=\" \")\n",
    "print()\n",
    "print(sum)\n",
    "\n",
    "# 키보드로 입력받은 두 수 사이의 모든 숫자의 합을 출력\n",
    "sum=0\n",
    "a = int(input(\"첫번쨰 숫자 : \"))\n",
    "b = int(input(\"두번쨰 숫자 :\"))\n",
    "print('------------------------')\n",
    "for i in range(a+1, b):\n",
    "    sum += i\n",
    "print(sum)"
   ]
  },
  {
   "cell_type": "code",
   "execution_count": null,
   "metadata": {},
   "outputs": [],
   "source": []
  },
  {
   "cell_type": "code",
   "execution_count": null,
   "metadata": {},
   "outputs": [],
   "source": []
  }
 ],
 "metadata": {
  "kernelspec": {
   "display_name": "Python 3",
   "language": "python",
   "name": "python3"
  },
  "language_info": {
   "codemirror_mode": {
    "name": "ipython",
    "version": 3
   },
   "file_extension": ".py",
   "mimetype": "text/x-python",
   "name": "python",
   "nbconvert_exporter": "python",
   "pygments_lexer": "ipython3",
   "version": "0.0.0"
  }
 },
 "nbformat": 4,
 "nbformat_minor": 2
}
