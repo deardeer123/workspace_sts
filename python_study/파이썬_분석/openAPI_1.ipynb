{
 "cells": [
  {
   "cell_type": "markdown",
   "metadata": {},
   "source": [
    "### 공공데이터 포탈 온습도 데이터 가져오기 실습"
   ]
  },
  {
   "cell_type": "code",
   "execution_count": 19,
   "metadata": {},
   "outputs": [],
   "source": [
    "import requests\n",
    "import bs4\n"
   ]
  },
  {
   "cell_type": "code",
   "execution_count": 18,
   "metadata": {},
   "outputs": [],
   "source": [
    "\n",
    "\n",
    "url = 'http://apis.data.go.kr/3210000/SeochoIaqSvc/getSeochoIaqRtData'\n",
    "params ={\n",
    "    'serviceKey' : 'qRoXflrfBsgsvMowjtk5JxPXmX78OsOAuczZ0Qmuw74bzNxxJpD8XL1LMAANOMOBn0BASMfklbM8mbZFxCFeyQ==',\n",
    "    'numOfRows' : '10',\n",
    "    'pageNo' : '1' }\n",
    "\n",
    "response = requests.get(url, params=params)\n"
   ]
  },
  {
   "cell_type": "code",
   "execution_count": 20,
   "metadata": {},
   "outputs": [
    {
     "name": "stdout",
     "output_type": "stream",
     "text": [
      "<class 'str'>\n",
      "<class 'bytes'>\n"
     ]
    }
   ],
   "source": [
    "# response.text를 출력하면 웹 사이트 내용을 문자열로 출력함\n",
    "print(type(response.text))\n",
    "print(type(response.content))"
   ]
  },
  {
   "cell_type": "code",
   "execution_count": 25,
   "metadata": {},
   "outputs": [
    {
     "name": "stdout",
     "output_type": "stream",
     "text": [
      "<?xml version=\"1.0\" encoding=\"utf-8\"?>\n",
      "<response>\n",
      "<header>\n",
      "<resultCode>00</resultCode>\n",
      "<resultMsg>NORMAL SERVICE</resultMsg>\n",
      "</header>\n",
      "<body>\n",
      "<items>\n",
      "<item>\n",
      "<dataTime>2024-02-27 11:21</dataTime>\n",
      "<serialNo>ICW0W2100481</serialNo>\n",
      "<pm10>12</pm10>\n",
      "<pm25>4</pm25>\n",
      "<co2>2043</co2>\n",
      "<vocs>4188</vocs>\n",
      "<temp>21.3</temp>\n",
      "<humi>39</humi>\n",
      "<noise>78</noise>\n",
      "<cici>69</cici>\n",
      "</item>\n",
      "<item>\n",
      "<dataTime>2024-02-27 11:21</dataTime>\n",
      "<serialNo>ICW0W2100587</serialNo>\n",
      "<pm10>17</pm10>\n",
      "<pm25>6</pm25>\n",
      "<co2>443</co2>\n",
      "<vocs>6000</vocs>\n",
      "<temp>23.7</temp>\n",
      "<humi>18</humi>\n",
      "<noise>59</noise>\n",
      "<cici>65</cici>\n",
      "</item>\n",
      "<item>\n",
      "<dataTime>2024-02-20 14:53</dataTime>\n",
      "<serialNo>ICW0W2100582</serialNo>\n",
      "<pm10>9</pm10>\n",
      "<pm25>3</pm25>\n",
      "<co2>839</co2>\n",
      "<vocs>41</vocs>\n",
      "<temp>21.5</temp>\n",
      "<humi>33</humi>\n",
      "<noise>63</noise>\n",
      "<cici>97</cici>\n",
      "</item>\n",
      "<item>\n",
      "<dataTime>2024-02-27 11:21</dataTime>\n",
      "<serialNo>ICW0W2100579</serialNo>\n",
      "<pm10>13</pm10>\n",
      "<pm25>5</pm25>\n",
      "<co2>0</co2>\n",
      "<vocs>14</vocs>\n",
      "<temp>20.5</temp>\n",
      "<humi>14</humi>\n",
      "<noise>57</noise>\n",
      "<cici>98</cici>\n",
      "</item>\n",
      "<item>\n",
      "<dataTime>2024-02-27 11:21</dataTime>\n",
      "<serialNo>ICW0W2100562</serialNo>\n",
      "<pm10>8</pm10>\n",
      "<pm25>4</pm25>\n",
      "<co2>607</co2>\n",
      "<vocs>2009</vocs>\n",
      "<temp>19.4</temp>\n",
      "<humi>23</humi>\n",
      "<noise>56</noise>\n",
      "<cici>77</cici>\n",
      "</item>\n",
      "<item>\n",
      "<dataTime>2024-02-27 09:48</dataTime>\n",
      "<serialNo>ICW0W2100560</serialNo>\n",
      "<pm10>10</pm10>\n",
      "<pm25>4</pm25>\n",
      "<co2>588</co2>\n",
      "<vocs>6000</vocs>\n",
      "<temp>23.1</temp>\n",
      "<humi>17</humi>\n",
      "<noise>58</noise>\n",
      "<cici>65</cici>\n",
      "</item>\n",
      "<item>\n",
      "<dataTime>2024-02-27 11:21</dataTime>\n",
      "<serialNo>ICW0W2100549</serialNo>\n",
      "<pm10>8</pm10>\n",
      "<pm25>3</pm25>\n",
      "<co2>893</co2>\n",
      "<vocs>65</vocs>\n",
      "<temp>16.4</temp>\n",
      "<humi>33</humi>\n",
      "<noise>70</noise>\n",
      "<cici>94</cici>\n",
      "</item>\n",
      "<item>\n",
      "<dataTime>2024-02-27 11:21</dataTime>\n",
      "<serialNo>ICW0W2100509</serialNo>\n",
      "<pm10>12</pm10>\n",
      "<pm25>4</pm25>\n",
      "<co2>175</co2>\n",
      "<vocs>6000</vocs>\n",
      "<temp>21.4</temp>\n",
      "<humi>26</humi>\n",
      "<noise>77</noise>\n",
      "<cici>70</cici>\n",
      "</item>\n",
      "<item>\n",
      "<dataTime>2024-02-27 11:21</dataTime>\n",
      "<serialNo>ICW0W2100506</serialNo>\n",
      "<pm10>0</pm10>\n",
      "<pm25>0</pm25>\n",
      "<co2>55</co2>\n",
      "<vocs>3</vocs>\n",
      "<temp>8.7</temp>\n",
      "<humi>32</humi>\n",
      "<noise>59</noise>\n",
      "<cici>93</cici>\n",
      "</item>\n",
      "<item>\n",
      "<dataTime>2024-02-27 11:21</dataTime>\n",
      "<serialNo>ICW0W2100499</serialNo>\n",
      "<pm10>6</pm10>\n",
      "<pm25>2</pm25>\n",
      "<co2>699</co2>\n",
      "<vocs>6000</vocs>\n",
      "<temp>20.5</temp>\n",
      "<humi>24</humi>\n",
      "<noise>72</noise>\n",
      "<cici>68</cici>\n",
      "</item>\n",
      "</items>\n",
      "<numOfRows>10</numOfRows>\n",
      "<pageNo>1</pageNo>\n",
      "<totalCount>87</totalCount>\n",
      "</body>\n",
      "</response>\n",
      "<class 'bs4.BeautifulSoup'>\n",
      "<resultCode>00</resultCode>\n"
     ]
    }
   ],
   "source": [
    "bs_data = bs4.BeautifulSoup(response.text, 'lxml-xml')\n",
    "#문자열 데이터에서 우리가 필요한 데이터로 쉽게 접근하기 위해서\n",
    "#BeautifulSoup 형태로 데이터 변환\n",
    "# 아래 코드 실행 시 오류 발생하면 'lxml' 설치후 재실행\n",
    "print(bs_data)\n",
    "print(type(bs_data))\n"
   ]
  },
  {
   "cell_type": "code",
   "execution_count": 27,
   "metadata": {},
   "outputs": [
    {
     "name": "stdout",
     "output_type": "stream",
     "text": [
      "00\n"
     ]
    }
   ],
   "source": [
    "#find('태그') -> 해당 태그 찾기\n",
    "#find('태그').text -> 해당 태그 안 내용\n",
    "\n",
    "#findAll('태그') 태그 다찾음\n",
    "\n",
    "aa = bs_data.find('resultCode').text\n",
    "print(aa)"
   ]
  },
  {
   "cell_type": "code",
   "execution_count": 35,
   "metadata": {},
   "outputs": [
    {
     "name": "stdout",
     "output_type": "stream",
     "text": [
      "<class 'bs4.element.ResultSet'>\n"
     ]
    }
   ],
   "source": [
    "items = bs_data.find_all('item')\n",
    "print(type(items))"
   ]
  },
  {
   "cell_type": "code",
   "execution_count": 36,
   "metadata": {},
   "outputs": [
    {
     "name": "stdout",
     "output_type": "stream",
     "text": [
      "<dataTime>2024-02-27 11:21</dataTime>\n",
      "<class 'bs4.element.Tag'>\n",
      "<dataTime>2024-02-27 11:21</dataTime>\n",
      "<class 'bs4.element.Tag'>\n",
      "<dataTime>2024-02-20 14:53</dataTime>\n",
      "<class 'bs4.element.Tag'>\n",
      "<dataTime>2024-02-27 11:21</dataTime>\n",
      "<class 'bs4.element.Tag'>\n",
      "<dataTime>2024-02-27 11:21</dataTime>\n",
      "<class 'bs4.element.Tag'>\n",
      "<dataTime>2024-02-27 09:48</dataTime>\n",
      "<class 'bs4.element.Tag'>\n",
      "<dataTime>2024-02-27 11:21</dataTime>\n",
      "<class 'bs4.element.Tag'>\n",
      "<dataTime>2024-02-27 11:21</dataTime>\n",
      "<class 'bs4.element.Tag'>\n",
      "<dataTime>2024-02-27 11:21</dataTime>\n",
      "<class 'bs4.element.Tag'>\n",
      "<dataTime>2024-02-27 11:21</dataTime>\n",
      "<class 'bs4.element.Tag'>\n",
      "{'dataTime': ['2024-02-27 11:21', '2024-02-27 11:21', '2024-02-20 14:53', '2024-02-27 11:21', '2024-02-27 11:21', '2024-02-27 09:48', '2024-02-27 11:21', '2024-02-27 11:21', '2024-02-27 11:21', '2024-02-27 11:21']}\n"
     ]
    }
   ],
   "source": [
    "dataTimeList = []\n",
    "for item in items :\n",
    "    print(item.find('dataTime'))\n",
    "    dataTimeList.append(item.find('dataTime').text)\n",
    "    print(type(item))\n",
    "\n",
    "\n"
   ]
  },
  {
   "cell_type": "code",
   "execution_count": 37,
   "metadata": {},
   "outputs": [
    {
     "name": "stdout",
     "output_type": "stream",
     "text": [
      "{'dataTime': ['2024-02-27 11:21', '2024-02-27 11:21', '2024-02-20 14:53', '2024-02-27 11:21', '2024-02-27 11:21', '2024-02-27 09:48', '2024-02-27 11:21', '2024-02-27 11:21', '2024-02-27 11:21', '2024-02-27 11:21']}\n"
     ]
    }
   ],
   "source": [
    "#api로 가져온 데이터를 모두 저장할 딕셔너리 자료형\n",
    "dic_data = {\n",
    "    'dataTime' : dataTimeList\n",
    "}\n",
    "\n",
    "print(dic_data)\n"
   ]
  },
  {
   "cell_type": "code",
   "execution_count": 41,
   "metadata": {},
   "outputs": [
    {
     "data": {
      "text/html": [
       "<div>\n",
       "<style scoped>\n",
       "    .dataframe tbody tr th:only-of-type {\n",
       "        vertical-align: middle;\n",
       "    }\n",
       "\n",
       "    .dataframe tbody tr th {\n",
       "        vertical-align: top;\n",
       "    }\n",
       "\n",
       "    .dataframe thead th {\n",
       "        text-align: right;\n",
       "    }\n",
       "</style>\n",
       "<table border=\"1\" class=\"dataframe\">\n",
       "  <thead>\n",
       "    <tr style=\"text-align: right;\">\n",
       "      <th></th>\n",
       "      <th>dataTime</th>\n",
       "    </tr>\n",
       "  </thead>\n",
       "  <tbody>\n",
       "    <tr>\n",
       "      <th>0</th>\n",
       "      <td>2024-02-27 11:21</td>\n",
       "    </tr>\n",
       "    <tr>\n",
       "      <th>1</th>\n",
       "      <td>2024-02-27 11:21</td>\n",
       "    </tr>\n",
       "    <tr>\n",
       "      <th>2</th>\n",
       "      <td>2024-02-20 14:53</td>\n",
       "    </tr>\n",
       "    <tr>\n",
       "      <th>3</th>\n",
       "      <td>2024-02-27 11:21</td>\n",
       "    </tr>\n",
       "    <tr>\n",
       "      <th>4</th>\n",
       "      <td>2024-02-27 11:21</td>\n",
       "    </tr>\n",
       "    <tr>\n",
       "      <th>5</th>\n",
       "      <td>2024-02-27 09:48</td>\n",
       "    </tr>\n",
       "    <tr>\n",
       "      <th>6</th>\n",
       "      <td>2024-02-27 11:21</td>\n",
       "    </tr>\n",
       "    <tr>\n",
       "      <th>7</th>\n",
       "      <td>2024-02-27 11:21</td>\n",
       "    </tr>\n",
       "    <tr>\n",
       "      <th>8</th>\n",
       "      <td>2024-02-27 11:21</td>\n",
       "    </tr>\n",
       "    <tr>\n",
       "      <th>9</th>\n",
       "      <td>2024-02-27 11:21</td>\n",
       "    </tr>\n",
       "  </tbody>\n",
       "</table>\n",
       "</div>"
      ],
      "text/plain": [
       "           dataTime\n",
       "0  2024-02-27 11:21\n",
       "1  2024-02-27 11:21\n",
       "2  2024-02-20 14:53\n",
       "3  2024-02-27 11:21\n",
       "4  2024-02-27 11:21\n",
       "5  2024-02-27 09:48\n",
       "6  2024-02-27 11:21\n",
       "7  2024-02-27 11:21\n",
       "8  2024-02-27 11:21\n",
       "9  2024-02-27 11:21"
      ]
     },
     "execution_count": 41,
     "metadata": {},
     "output_type": "execute_result"
    }
   ],
   "source": [
    "import pandas as pd \n",
    "df = pd.DataFrame(dic_data)\n",
    "df"
   ]
  },
  {
   "cell_type": "code",
   "execution_count": null,
   "metadata": {},
   "outputs": [],
   "source": []
  }
 ],
 "metadata": {
  "kernelspec": {
   "display_name": "Python 3",
   "language": "python",
   "name": "python3"
  },
  "language_info": {
   "codemirror_mode": {
    "name": "ipython",
    "version": 3
   },
   "file_extension": ".py",
   "mimetype": "text/x-python",
   "name": "python",
   "nbconvert_exporter": "python",
   "pygments_lexer": "ipython3",
   "version": "3.12.2"
  }
 },
 "nbformat": 4,
 "nbformat_minor": 2
}
