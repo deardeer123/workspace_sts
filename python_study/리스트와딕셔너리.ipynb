{
 "cells": [
  {
   "cell_type": "code",
   "execution_count": 10,
   "metadata": {},
   "outputs": [
    {
     "name": "stdout",
     "output_type": "stream",
     "text": [
      "[1, 3, 4, 5, 6, 7, 8, 9]\n",
      "[1]\n"
     ]
    }
   ],
   "source": [
    "#리스트\n",
    "list5 =[1,2,3,4,5,6,7,8,9]\n",
    "del(list5[1])\n",
    "print(list5)\n",
    "list5.clear()\n",
    "list5.append(1)\n",
    "print(list5)"
   ]
  },
  {
   "cell_type": "markdown",
   "metadata": {},
   "source": [
    "# 딕셔너리(Dictionary)\n"
   ]
  },
  {
   "cell_type": "code",
   "execution_count": 13,
   "metadata": {},
   "outputs": [],
   "source": [
    "# 딕셔너리 생성\n",
    "dic1 = {}\n",
    "dic2 = {'이름':'홍길동', '나이':20}"
   ]
  },
  {
   "cell_type": "code",
   "execution_count": 20,
   "metadata": {},
   "outputs": [
    {
     "name": "stdout",
     "output_type": "stream",
     "text": [
      "{'이름': '홍길동', '나이': 20}\n",
      "홍길동\n",
      "20\n",
      "key = 이름  value = 홍길동\n",
      "key = 나이  value = 20\n"
     ]
    }
   ],
   "source": [
    "#딕셔너리 출력\n",
    "print(dic2)\n",
    "\n",
    "# 하나의 데이터만 출력\n",
    "print(dic2['이름'])\n",
    "print(dic2.get('나이'))\n",
    "\n",
    "#반복문 이용하기\n",
    "for key in dic2 :\n",
    "    print(f'key = {key}  value = {dic2[key]}')\n"
   ]
  },
  {
   "cell_type": "code",
   "execution_count": 21,
   "metadata": {},
   "outputs": [
    {
     "name": "stdout",
     "output_type": "stream",
     "text": [
      "{'이름': '홍길동'}\n",
      "{'이름': '홍길동', '연락처': '010-1111-2222'}\n",
      "{'이름': '이순신', '연락처': '010-1111-2222'}\n"
     ]
    }
   ],
   "source": [
    "#딕셔너리 데이터 추가하기 \n",
    "dic3 = {}\n",
    "\n",
    "# key가 이름이고 value는 '홍길동'인 데이터 추가\n",
    "dic3['이름'] = '홍길동'\n",
    "print(dic3)\n",
    "dic3['연락처'] = '010-1111-2222'\n",
    "print(dic3)\n",
    "\n",
    "# dic3 안에 키가 이름인 데이터 값을 '이순신'으로 변경\n",
    "dic3['이름'] = '이순신'\n",
    "print(dic3)\n"
   ]
  },
  {
   "cell_type": "code",
   "execution_count": 28,
   "metadata": {},
   "outputs": [
    {
     "name": "stdout",
     "output_type": "stream",
     "text": [
      "{'연락처': '010-1111-2222'}\n",
      "{}\n"
     ]
    }
   ],
   "source": [
    "#딕셔너리 파일 삭제하기\n",
    "\n",
    "del(dic3['이름'])\n",
    "print(dic3)\n",
    "\n",
    "dic3.clear()\n",
    "print(dic3)"
   ]
  },
  {
   "cell_type": "code",
   "execution_count": 42,
   "metadata": {},
   "outputs": [
    {
     "name": "stdout",
     "output_type": "stream",
     "text": [
      "['안녕하세요', '반가워요', '집에가고싶다', '제발', '12345']\n"
     ]
    }
   ],
   "source": [
    "#리스트 문제1\n",
    "#빈 리스트를 생성하고 키보드로 데이터 5개를 입력받아 입력받은 데이터를 리스트에 추가\n",
    "# 그리고 리스트의 모든 내용 출력\n",
    "list1 =[]\n",
    "count = 1\n",
    "for i in range(5):\n",
    "    \n",
    "    a = (input(f'{count}번 데이터를 입력해주세요'))\n",
    "    list1.append(a)\n",
    "    count = count + 1\n",
    "    \n",
    "print(list1)\n"
   ]
  },
  {
   "cell_type": "code",
   "execution_count": 44,
   "metadata": {},
   "outputs": [
    {
     "name": "stdout",
     "output_type": "stream",
     "text": [
      "삭제 결과 : [1, 2, 3, 5]\n"
     ]
    }
   ],
   "source": [
    "#리스트 문제2\n",
    "#아래 제시된 리스트에서 사용자가 입력한 값을 찾아 ㅏㅅ제하는 코드\n",
    "test_list2 = [1,2,3,4,5]\n",
    "\n",
    "a = int(input(\"삭제하고자 하는 값을 입력해주세요\"))\n",
    "\n",
    "if a in test_list2:\n",
    "    test_list2.remove(a)\n",
    "    print(f'삭제 결과 : {test_list2}')\n",
    "else:\n",
    "    print('삭제하려는 데이터가 존재하지 않습니다.')\n",
    "\n"
   ]
  },
  {
   "cell_type": "code",
   "execution_count": 76,
   "metadata": {},
   "outputs": [
    {
     "name": "stdout",
     "output_type": "stream",
     "text": [
      "[2, 4, 6, 8, 10]\n",
      "30\n",
      "30\n",
      "2\n",
      "10\n"
     ]
    }
   ],
   "source": [
    "#리스트 무ㄴ제3\n",
    "#1-10까지의 수 중 짝수만 리스트에 저장하고 리스트에 저장된 데이터의 합 출력\n",
    "list3 = []\n",
    "for i in range(1,11):\n",
    "    if(i%2==0):\n",
    "        list3.append(i)\n",
    "\n",
    "print(list3)\n",
    "sum1 = 0\n",
    "\n",
    "for i in list3:\n",
    "    sum1 = sum1 + i\n",
    "print(sum1)\n",
    "\n",
    "print(sum(list3))\n",
    "print(min(list3))\n",
    "print(max(list3))\n",
    "# for i, e in enumerate(range(5)):\n",
    "\n",
    "#     print(f'i = {i} e = {e}')"
   ]
  },
  {
   "cell_type": "code",
   "execution_count": 1,
   "metadata": {},
   "outputs": [
    {
     "name": "stdout",
     "output_type": "stream",
     "text": [
      "{'이름': '홍길동', '나이': 20, '국어점수': 50, '영어점수': 50}\n",
      "{'이름': '홍길동', '나이': 20, '국어점수': 50, '영어점수': 50, '총점': 100}\n"
     ]
    }
   ],
   "source": [
    "#빈 dictionary 객체를 생성한 후\n",
    "#이름 , 나이, 국어점수, 영어 점수를 key로 추가하고\n",
    "#각각의 키에 대응하는 value를 키보드를 입력받아\n",
    "# dictionary 객체에 저장하세요 그리고 춫력\n",
    "# name = None\n",
    "# if name is None:\n",
    "#     print(\"none값\")\n",
    "# if name is not None:\n",
    "#     print(\"None값 아님\")\n",
    "\n",
    "dict123123={}\n",
    "dict123123['이름'] = None\n",
    "dict123123['나이'] = None\n",
    "dict123123['국어점수'] = None\n",
    "dict123123['영어점수'] = None\n",
    "\n",
    "#dict123123 = {'이름': '', '나이': '', '국어점수':'','영어점수':''}\n",
    "dict123123['이름'] = input(\"이름을 입력해주세요\")\n",
    "dict123123['나이'] = int(input('나이를 입력해주세요'))\n",
    "dict123123['국어점수'] = int(input('국어점수를 입력해주세요'))\n",
    "dict123123['영어점수'] = int(input('영어점수를 입력해주세요'))\n",
    "\n",
    "print(dict123123)\n",
    "\n",
    "a,b = dict123123['국어점수'],dict123123['영어점수']\n",
    "dict123123['총점'] = a+b\n",
    "print(dict123123)"
   ]
  },
  {
   "cell_type": "code",
   "execution_count": 87,
   "metadata": {},
   "outputs": [
    {
     "name": "stdout",
     "output_type": "stream",
     "text": [
      "1\n",
      "김자바\n",
      "85\n"
     ]
    },
    {
     "data": {
      "text/plain": [
       "95"
      ]
     },
     "execution_count": 87,
     "metadata": {},
     "output_type": "execute_result"
    }
   ],
   "source": [
    "class_room_data = {\n",
    "    'stu_no' : [1,2,3,4,5] ,\n",
    "    'stu_name' : ['김자바', '이자바', '박자바', '최자바', '정자바'],\n",
    "    'stu_score' : [85, 65, 70, 80, 95]\n",
    "}\n",
    "\n",
    "print(f'{class_room_data['stu_no'][0]}')\n",
    "print(f'{class_room_data['stu_name'][0]}')\n",
    "print(f'{class_room_data['stu_score'][0]}')\n",
    "\n",
    "# 최고 점수 출력\n",
    "max(class_room_data['stu_score'])\n",
    "\n"
   ]
  },
  {
   "cell_type": "code",
   "execution_count": 89,
   "metadata": {},
   "outputs": [
    {
     "name": "stdout",
     "output_type": "stream",
     "text": [
      "{'stu_no': [1, 2, 3, 4, 5], 'stu_name': ['김자바', '이자바', '박자바', '최자바', '정자바'], 'stu_score': [85, 65, 70, 80, 95], 'stu_grade': ['B', 'C', 'C', 'B', 'A']}\n"
     ]
    }
   ],
   "source": [
    "# 위의 딕셔너리 데이터에 'stu_grade'라는 키를 추가하고\n",
    "# 해당 키에 대한 값으로 아래의\n",
    "stu_grade = []\n",
    "for i in class_room_data['stu_score'] :\n",
    "    if(i >= 90):\n",
    "        stu_grade.append('A')\n",
    "    elif(i>=80 and i<90):\n",
    "        stu_grade.append('B')\n",
    "    else:\n",
    "        stu_grade.append('C')\n",
    "\n",
    "\n",
    "\n",
    "class_room_data['stu_grade'] = stu_grade\n",
    "print(class_room_data)"
   ]
  }
 ],
 "metadata": {
  "kernelspec": {
   "display_name": "Python 3",
   "language": "python",
   "name": "python3"
  },
  "language_info": {
   "codemirror_mode": {
    "name": "ipython",
    "version": 3
   },
   "file_extension": ".py",
   "mimetype": "text/x-python",
   "name": "python",
   "nbconvert_exporter": "python",
   "pygments_lexer": "ipython3",
   "version": "3.12.2"
  }
 },
 "nbformat": 4,
 "nbformat_minor": 2
}
