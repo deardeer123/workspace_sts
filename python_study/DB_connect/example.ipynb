{
 "cells": [
  {
   "cell_type": "code",
   "execution_count": 2,
   "metadata": {},
   "outputs": [],
   "source": [
    "import pymysql\n",
    "import pandas"
   ]
  },
  {
   "cell_type": "code",
   "execution_count": 10,
   "metadata": {},
   "outputs": [
    {
     "name": "stdout",
     "output_type": "stream",
     "text": [
      "[{'BOARD_NUM': 1, 'TITLE': '테스트', 'writer': '홍길동', 'read_cnt': 0}, {'BOARD_NUM': 2, 'TITLE': '테스트', 'writer': '홍길동', 'read_cnt': 0}, {'BOARD_NUM': 3, 'TITLE': '제목', 'writer': '작성자', 'read_cnt': 4}]\n"
     ]
    }
   ],
   "source": [
    "main()"
   ]
  },
  {
   "cell_type": "code",
   "execution_count": 9,
   "metadata": {},
   "outputs": [],
   "source": [
    "def main():\n",
    "    conn = getConnection()\n",
    "    sql = 'select * from python_board'\n",
    "    result = selectList(sql, conn)\n",
    "\n",
    "    print(result)"
   ]
  },
  {
   "cell_type": "code",
   "execution_count": 7,
   "metadata": {},
   "outputs": [],
   "source": [
    "#db 연결하는 함수\n",
    "def getConnection():\n",
    "    # 1. 파이썬에 디비 연결\n",
    "    conn = pymysql.connect(\n",
    "        host='localhost',\n",
    "        user='study_user',\n",
    "        password='mariadb',\n",
    "        db='study_db' ,\n",
    "        charset='utf8')\n",
    "    \n",
    "    return conn\n"
   ]
  },
  {
   "cell_type": "code",
   "execution_count": 8,
   "metadata": {},
   "outputs": [],
   "source": [
    "# 목록 조회 함수\n",
    "def selectList(sql, conn):\n",
    "    # pymysql.cursors.DictCursor 적으면 딕셔너리로 나옴\n",
    "    cursor = conn.cursor(pymysql.cursors.DictCursor)\n",
    "    cursor.execute(sql)\n",
    "    result = cursor.fetchall()\n",
    "    return result\n"
   ]
  },
  {
   "cell_type": "code",
   "execution_count": null,
   "metadata": {},
   "outputs": [],
   "source": [
    "# 단일행 데이터 insert\n",
    "def insertOne(dictData, conn):\n",
    "    cursor = conn.cursor(pymysql.cursors.DictCursor)\n",
    "\n",
    "    sql = f\"INSERT INTO PYTHON_BOARD VALUES ({dictData['boardNum']}, {dictData['title']}, {dictData['writer']}, {dictData['readCnt']})\"\n",
    "    cursor.execute(sql)\n",
    "    conn.commit()\n"
   ]
  },
  {
   "cell_type": "code",
   "execution_count": null,
   "metadata": {},
   "outputs": [],
   "source": [
    "data = {'boardNum':5,\n",
    "        'title' : '제목',\n",
    "        'writer':'작성자',\n",
    "        'readCnt':10\n",
    "        }"
   ]
  },
  {
   "cell_type": "code",
   "execution_count": null,
   "metadata": {},
   "outputs": [],
   "source": []
  }
 ],
 "metadata": {
  "kernelspec": {
   "display_name": "Python 3",
   "language": "python",
   "name": "python3"
  },
  "language_info": {
   "codemirror_mode": {
    "name": "ipython",
    "version": 3
   },
   "file_extension": ".py",
   "mimetype": "text/x-python",
   "name": "python",
   "nbconvert_exporter": "python",
   "pygments_lexer": "ipython3",
   "version": "3.12.2"
  }
 },
 "nbformat": 4,
 "nbformat_minor": 2
}
