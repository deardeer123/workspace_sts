{
 "cells": [
  {
   "cell_type": "markdown",
   "metadata": {},
   "source": [
    "### 함수"
   ]
  },
  {
   "cell_type": "code",
   "execution_count": 3,
   "metadata": {},
   "outputs": [
    {
     "name": "stdout",
     "output_type": "stream",
     "text": [
      "1\n"
     ]
    }
   ],
   "source": [
    "# 함수의 기본형태\n",
    "def test1():\n",
    "    print(1)\n",
    "\n",
    "test1()"
   ]
  },
  {
   "cell_type": "code",
   "execution_count": 4,
   "metadata": {},
   "outputs": [
    {
     "name": "stdout",
     "output_type": "stream",
     "text": [
      "5\n"
     ]
    }
   ],
   "source": [
    "# 리턴이 있는 함수\n",
    "def getNum():\n",
    "    return 5\n",
    "\n",
    "print(getNum())"
   ]
  },
  {
   "cell_type": "code",
   "execution_count": 6,
   "metadata": {},
   "outputs": [
    {
     "name": "stdout",
     "output_type": "stream",
     "text": [
      "30\n"
     ]
    }
   ],
   "source": [
    "#매개변수로 전달되는 두 수의 합을 리턴하는 함수\n",
    "#호출\n",
    "\n",
    "def getSum(a,b):\n",
    "    return a+b\n",
    "print(getSum(10,20))\n",
    "\n"
   ]
  },
  {
   "cell_type": "code",
   "execution_count": 8,
   "metadata": {},
   "outputs": [
    {
     "name": "stdout",
     "output_type": "stream",
     "text": [
      "<class 'tuple'>\n",
      "10 20\n"
     ]
    }
   ],
   "source": [
    "# 파이썬은 필요하다면 여러 데이터를 return 할 수 있다.\n",
    "def test2():\n",
    "    return 10,20\n",
    "a,b = test2()\n",
    "\n",
    "# 결과가 Tuple(튜플) 자료형으로 나옴\n",
    "# tuple : list와 동일하나, 값을 변경하지 못하는 자료형\n",
    "c = test2()\n",
    "print(type(c))\n",
    "print(a,b)\n",
    "\n"
   ]
  },
  {
   "cell_type": "code",
   "execution_count": 11,
   "metadata": {},
   "outputs": [
    {
     "name": "stdout",
     "output_type": "stream",
     "text": [
      "이름은 홍길동 나이는 20\n",
      "이름은 홍길동 나이는 20\n",
      "이름은 홍길동 나이는 20\n"
     ]
    }
   ],
   "source": [
    "# 파이썬은 매개변수의 값을 자바와 다르게 지정할 수 있다.\n",
    "def intro(name, age):\n",
    "    print(f'이름은 {name} 나이는 {age}')\n",
    "\n",
    "intro('홍길동', 20)\n",
    "intro(name='홍길동', age=20)\n",
    "# 매개변수의 이름으로 값을 전달할 수 잇슴\n",
    "intro( age = 20,name= '홍길동')\n",
    "\n"
   ]
  },
  {
   "cell_type": "code",
   "execution_count": 14,
   "metadata": {},
   "outputs": [
    {
     "name": "stdout",
     "output_type": "stream",
     "text": [
      "40\n",
      "50\n",
      "60\n"
     ]
    }
   ],
   "source": [
    "#  함수 선언 시 매개변수의 기본값(dafault)을 지정할 수 있음\n",
    "def mySum(a,b=10,c=20):\n",
    "        \n",
    "    return a+b+c\n",
    "def mySum2(a = 1,b=5 ,c=20):\n",
    "    return a+b+c\n",
    "\n",
    "print(mySum(10))\n",
    "print(mySum(10,20))\n",
    "print(mySum(10,20,30))\n",
    "\n"
   ]
  },
  {
   "cell_type": "code",
   "execution_count": 15,
   "metadata": {},
   "outputs": [
    {
     "name": "stdout",
     "output_type": "stream",
     "text": [
      "15\n"
     ]
    }
   ],
   "source": [
    "# 매개변수로 두 개의 리스트를 받아서 두 리스트의 저장된 모든 데이터의 합을 리턴하는 함수\n",
    "def listSum(list1,list2):\n",
    "    c = 0\n",
    "    for i in list1 :\n",
    "        c = c+i\n",
    "    for i in list2:\n",
    "        c = c + i\n",
    "    return c\n",
    "\n",
    "a=[1,2,3]\n",
    "b=[4,5]\n",
    "\n",
    "print(listSum(a,b))"
   ]
  },
  {
   "cell_type": "code",
   "execution_count": 33,
   "metadata": {},
   "outputs": [
    {
     "name": "stdout",
     "output_type": "stream",
     "text": [
      "['안녕하세요', 'ㅎㅇ', 1]\n"
     ]
    }
   ],
   "source": [
    "# 매개변수로 두 개의 리스트를 받아, 두 리스트에서 중복된 데이터만을 갖는 새로운 리스트를 리턴하는 함수\n",
    "def dupList(list1,list2):\n",
    "    c = []\n",
    "    for i in list1 :\n",
    "        for o in list2 :\n",
    "            if(i==o):\n",
    "                c.append(i)\n",
    "    return c\n",
    "\n",
    "def dupList2(list1,list2):\n",
    "    c = []\n",
    "    for i in list1:\n",
    "        if i in list2:\n",
    "            c.append(i)\n",
    "    return c\n",
    "\n",
    "a = ['안녕하세요','ㅎㅇ',1,2,3]\n",
    "b = [1,'ㅎㅇ','반갑다','안녕하세요']\n",
    "print(dupList2(a,b))"
   ]
  },
  {
   "cell_type": "code",
   "execution_count": 125,
   "metadata": {},
   "outputs": [
    {
     "name": "stdout",
     "output_type": "stream",
     "text": [
      "<class 'dict'>\n",
      "{'이름': 'ㅁㄴㅇㄹ'}\n"
     ]
    }
   ],
   "source": [
    "\n",
    "\n",
    "def changeValueOfDic(a, key, value):\n",
    "    if(a.get(key) is None):\n",
    "        print('변경할 키를 찾지 못했습니다.')\n",
    "        return a\n",
    "    else:\n",
    "        a[key] = value\n",
    "        return a\n",
    "def changeValueOfDic2(a, key, value):\n",
    "    if key in a:\n",
    "        a[key] = value\n",
    "    else :\n",
    "        print('찾는 key가 없습니다.')\n",
    "    \n",
    "\n",
    "dic_1={\n",
    "    '이름' : '홍길동'\n",
    "}\n",
    "print(type(dic_1))\n",
    "abc = dic_1.get('아무거나')\n",
    "changeValueOfDic2(dic_1, '이름', 'ㅁㄴㅇㄹ')\n",
    "print(dic_1)\n"
   ]
  },
  {
   "cell_type": "code",
   "execution_count": null,
   "metadata": {},
   "outputs": [],
   "source": []
  },
  {
   "cell_type": "code",
   "execution_count": null,
   "metadata": {},
   "outputs": [],
   "source": []
  },
  {
   "cell_type": "code",
   "execution_count": null,
   "metadata": {},
   "outputs": [],
   "source": []
  }
 ],
 "metadata": {
  "kernelspec": {
   "display_name": "Python 3",
   "language": "python",
   "name": "python3"
  },
  "language_info": {
   "codemirror_mode": {
    "name": "ipython",
    "version": 3
   },
   "file_extension": ".py",
   "mimetype": "text/x-python",
   "name": "python",
   "nbconvert_exporter": "python",
   "pygments_lexer": "ipython3",
   "version": "3.12.2"
  }
 },
 "nbformat": 4,
 "nbformat_minor": 2
}
